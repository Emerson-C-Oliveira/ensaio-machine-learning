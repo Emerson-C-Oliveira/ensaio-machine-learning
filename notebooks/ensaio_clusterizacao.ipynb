{
 "cells": [
  {
   "cell_type": "code",
   "execution_count": 1,
   "metadata": {},
   "outputs": [
    {
     "name": "stdout",
     "output_type": "stream",
     "text": [
      "+----+---------------------+--------------------+\n",
      "|    | Modelo              |   Silhouette Score |\n",
      "+====+=====================+====================+\n",
      "|  0 | KMeans              |           0.233105 |\n",
      "+----+---------------------+--------------------+\n",
      "|  1 | AffinityPropagation |           0.202286 |\n",
      "+----+---------------------+--------------------+\n"
     ]
    }
   ],
   "source": [
    "import pandas as pd\n",
    "import numpy as np\n",
    "from sklearn.cluster import KMeans, AffinityPropagation\n",
    "from sklearn.metrics import silhouette_score\n",
    "from tabulate import tabulate\n",
    "\n",
    "# Carregar os dados\n",
    "data = pd.read_csv('X_dataset.csv')\n",
    "X = data.values\n",
    "\n",
    "# Inicializando os modelos\n",
    "kmeans = KMeans(\n",
    "    n_clusters=3,\n",
    "    init='k-means++',\n",
    "    n_init=10,\n",
    "    max_iter=300,\n",
    "    tol=0.0001,\n",
    "    verbose=0,\n",
    "    random_state=None,\n",
    "    copy_x=True,\n",
    "    algorithm='lloyd'\n",
    ")\n",
    "\n",
    "# Treinando o modelo KMeans\n",
    "kmeans.fit(X)\n",
    "labels_kmeans = kmeans.labels_\n",
    "silhouette_avg_kmeans = silhouette_score(X, labels_kmeans)\n",
    "\n",
    "# Criar uma instância do AffinityPropagation\n",
    "affinity_propagation = AffinityPropagation(\n",
    "    damping=0.5,\n",
    "    max_iter=200,\n",
    "    convergence_iter=25,\n",
    "    copy=True,\n",
    "    preference=-50,\n",
    "    affinity='euclidean',\n",
    "    verbose=False\n",
    ")\n",
    "\n",
    "# Treinando o modelo AffinityPropagation\n",
    "affinity_propagation.fit(X)\n",
    "labels_ap = affinity_propagation.labels_\n",
    "silhouette_avg_ap = silhouette_score(X, labels_ap)\n",
    "\n",
    "# Armazenando os resultados em uma tabela\n",
    "results = [\n",
    "    [\"KMeans\", silhouette_avg_kmeans],\n",
    "    [\"AffinityPropagation\", silhouette_avg_ap]\n",
    "]\n",
    "\n",
    "# Convertendo para DataFrame para melhor formatação\n",
    "results_df = pd.DataFrame(results, columns=[\"Modelo\", \"Silhouette Score\"])\n",
    "\n",
    "# Mostrando os resultados em formato de tabela com divisórias\n",
    "print(tabulate(results_df, headers='keys', tablefmt='grid'))\n"
   ]
  }
 ],
 "metadata": {
  "kernelspec": {
   "display_name": "Python 3",
   "language": "python",
   "name": "python3"
  },
  "language_info": {
   "codemirror_mode": {
    "name": "ipython",
    "version": 3
   },
   "file_extension": ".py",
   "mimetype": "text/x-python",
   "name": "python",
   "nbconvert_exporter": "python",
   "pygments_lexer": "ipython3",
   "version": "3.11.2"
  }
 },
 "nbformat": 4,
 "nbformat_minor": 2
}
