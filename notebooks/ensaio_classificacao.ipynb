{
 "cells": [
  {
   "cell_type": "code",
   "execution_count": 1,
   "metadata": {},
   "outputs": [],
   "source": [
    "import pandas as pd\n",
    "import numpy as np\n",
    "import matplotlib.pyplot as plt\n",
    "import seaborn as sns\n",
    "\n",
    "from tabulate import tabulate\n",
    "from sklearn.model_selection import train_test_split, GridSearchCV\n",
    "from sklearn.linear_model import LogisticRegression\n",
    "from sklearn.tree import DecisionTreeClassifier\n",
    "from sklearn.ensemble import RandomForestClassifier\n",
    "from sklearn.neighbors import KNeighborsClassifier\n",
    "from sklearn.metrics import make_scorer,accuracy_score, precision_score, recall_score, f1_score"
   ]
  },
  {
   "cell_type": "code",
   "execution_count": 2,
   "metadata": {},
   "outputs": [],
   "source": [
    "X_train = pd.read_csv('X_training.csv')\n",
    "y_train = pd.read_csv('y_training.csv')\n",
    "X_validation = pd.read_csv('X_validation.csv')\n",
    "y_validation = pd.read_csv('y_validation.csv')\n",
    "X_test = pd.read_csv('X_test.csv')\n",
    "y_test = pd.read_csv('y_test.csv')"
   ]
  },
  {
   "cell_type": "code",
   "execution_count": 3,
   "metadata": {},
   "outputs": [],
   "source": [
    "# Função para calcular as métricas\n",
    "def calculate_metrics(y_true, y_pred):\n",
    "    accuracy = accuracy_score(y_true, y_pred)\n",
    "    precision =  precision_score(y_true, y_pred, average='weighted')\n",
    "    recall = recall_score(y_true, y_pred, average='weighted')\n",
    "    f1 = f1_score (y_true, y_pred, average='weighted')\n",
    "    return [accuracy, precision, recall, f1]"
   ]
  },
  {
   "cell_type": "code",
   "execution_count": 4,
   "metadata": {},
   "outputs": [],
   "source": [
    "# Função para imprimir os resultados em tabela formatada\n",
    "def print_table(title, df):\n",
    "    print(title)\n",
    "    print(tabulate(df, headers='keys', tablefmt=\"grid\"))\n",
    "    print(\"\\n\")"
   ]
  },
  {
   "cell_type": "code",
   "execution_count": 5,
   "metadata": {},
   "outputs": [],
   "source": [
    "X_train = np.array(X_train)\n",
    "y_train = np.array(y_train).ravel()\n",
    "\n",
    "X_validation = np.array(X_validation)\n",
    "y_validation = np.array(y_validation).ravel()\n",
    "\n",
    "X_test = np.array(X_test)\n",
    "y_test = np.array(y_test).ravel()"
   ]
  },
  {
   "cell_type": "code",
   "execution_count": 14,
   "metadata": {},
   "outputs": [],
   "source": [
    "# Definindo os modelos e os parâmetros \n",
    "models = {\n",
    "    'K-Neighbors': {\n",
    "        'model': KNeighborsClassifier(),\n",
    "        'params': {\n",
    "            'n_neighbors': 7\n",
    "        }\n",
    "    },\n",
    "    'Decision Tree': {\n",
    "        'model': DecisionTreeClassifier(),\n",
    "        'params': {\n",
    "            'max_depth': 25\n",
    "        }\n",
    "    },\n",
    "    'Random Forest': {\n",
    "        'model': RandomForestClassifier(),\n",
    "        'params': {\n",
    "            'n_estimators': 100,\n",
    "            'max_depth': 25\n",
    "        }\n",
    "    },\n",
    "    'Logistic Regression': {\n",
    "        'model': LogisticRegression(),\n",
    "        'params': {\n",
    "            'C': 1.0,\n",
    "            'solver': 'lbfgs',\n",
    "            'max_iter': 100\n",
    "        }\n",
    "    }\n",
    "}"
   ]
  },
  {
   "cell_type": "code",
   "execution_count": 15,
   "metadata": {},
   "outputs": [],
   "source": [
    "# Função para treinar, avaliar e otimizar os modelos\n",
    "def train_and_evalutate_models (models, X_train, y_train, X_validation, y_validation, X_test, y_test):\n",
    "    results = []\n",
    "\n",
    "    for name, model_info in models.items():\n",
    "        model = model_info['model']\n",
    "        params = model_info['params']\n",
    "\n",
    "        #Treinando o modelo\n",
    "        model.fit(X_train, y_train)\n",
    "\n",
    "        # Previsões \n",
    "        y_train_pred = model.predict(X_train)\n",
    "        y_validation_pred = model.predict(X_validation)\n",
    "        y_test_pred = model.predict(X_test)\n",
    "\n",
    "        # Calculando as métricas\n",
    "        train_metrics = calculate_metrics(y_train, y_train_pred)\n",
    "        validation_metrics = calculate_metrics(y_validation, y_validation_pred)\n",
    "        test_metrics = calculate_metrics(y_test, y_test_pred)\n",
    "\n",
    "        results.append({\n",
    "            'Algoritmo': name,\n",
    "            'Dados': 'Treinamento',\n",
    "            'Accuracy': train_metrics[0],\n",
    "            'Precision': train_metrics[1],\n",
    "            'Recall': train_metrics[2],\n",
    "            'F1-Score': train_metrics[3]\n",
    "        })\n",
    "        results.append({\n",
    "            'Algoritmo': name,\n",
    "            'Dados': 'Validação',\n",
    "            'Accuracy': train_metrics[0],\n",
    "            'Precision': train_metrics[1],\n",
    "            'Recall': train_metrics[2],\n",
    "            'F1-Score': train_metrics[3]\n",
    "        })\n",
    "        results.append({\n",
    "            'Algoritmo': name,\n",
    "            'Dados': 'Teste',\n",
    "            'Accuracy': validation_metrics[0],\n",
    "            'Precision': validation_metrics[1],\n",
    "            'Recall': validation_metrics[2],\n",
    "            'F1-Score': validation_metrics[3]\n",
    "        })\n",
    "\n",
    "    return results"
   ]
  },
  {
   "cell_type": "code",
   "execution_count": 16,
   "metadata": {},
   "outputs": [
    {
     "name": "stdout",
     "output_type": "stream",
     "text": [
      "Resultados dos modelos de classificação\n",
      "+----+---------------------+-------------+------------+-------------+----------+------------+\n",
      "|    | Algoritmo           | Dados       |   Accuracy |   Precision |   Recall |   F1-Score |\n",
      "+====+=====================+=============+============+=============+==========+============+\n",
      "|  0 | K-Neighbors         | Treinamento |   0.781562 |    0.78097  | 0.781562 |   0.781125 |\n",
      "+----+---------------------+-------------+------------+-------------+----------+------------+\n",
      "|  1 | K-Neighbors         | Validação   |   0.781562 |    0.78097  | 0.781562 |   0.781125 |\n",
      "+----+---------------------+-------------+------------+-------------+----------+------------+\n",
      "|  2 | K-Neighbors         | Teste       |   0.675665 |    0.674196 | 0.675665 |   0.674669 |\n",
      "+----+---------------------+-------------+------------+-------------+----------+------------+\n",
      "|  3 | Decision Tree       | Treinamento |   1        |    1        | 1        |   1        |\n",
      "+----+---------------------+-------------+------------+-------------+----------+------------+\n",
      "|  4 | Decision Tree       | Validação   |   1        |    1        | 1        |   1        |\n",
      "+----+---------------------+-------------+------------+-------------+----------+------------+\n",
      "|  5 | Decision Tree       | Teste       |   0.945397 |    0.945435 | 0.945397 |   0.945412 |\n",
      "+----+---------------------+-------------+------------+-------------+----------+------------+\n",
      "|  6 | Random Forest       | Treinamento |   0.999959 |    0.999959 | 0.999959 |   0.999959 |\n",
      "+----+---------------------+-------------+------------+-------------+----------+------------+\n",
      "|  7 | Random Forest       | Validação   |   0.999959 |    0.999959 | 0.999959 |   0.999959 |\n",
      "+----+---------------------+-------------+------------+-------------+----------+------------+\n",
      "|  8 | Random Forest       | Teste       |   0.964832 |    0.965068 | 0.964832 |   0.964758 |\n",
      "+----+---------------------+-------------+------------+-------------+----------+------------+\n",
      "|  9 | Logistic Regression | Treinamento |   0.5666   |    0.321036 | 0.5666   |   0.40985  |\n",
      "+----+---------------------+-------------+------------+-------------+----------+------------+\n",
      "| 10 | Logistic Regression | Validação   |   0.5666   |    0.321036 | 0.5666   |   0.40985  |\n",
      "+----+---------------------+-------------+------------+-------------+----------+------------+\n",
      "| 11 | Logistic Regression | Teste       |   0.566621 |    0.321059 | 0.566621 |   0.409874 |\n",
      "+----+---------------------+-------------+------------+-------------+----------+------------+\n",
      "\n",
      "\n"
     ]
    },
    {
     "name": "stderr",
     "output_type": "stream",
     "text": [
      "c:\\Users\\emers\\AppData\\Local\\Programs\\Python\\Python311\\Lib\\site-packages\\sklearn\\metrics\\_classification.py:1469: UndefinedMetricWarning: Precision is ill-defined and being set to 0.0 in labels with no predicted samples. Use `zero_division` parameter to control this behavior.\n",
      "  _warn_prf(average, modifier, msg_start, len(result))\n",
      "c:\\Users\\emers\\AppData\\Local\\Programs\\Python\\Python311\\Lib\\site-packages\\sklearn\\metrics\\_classification.py:1469: UndefinedMetricWarning: Precision is ill-defined and being set to 0.0 in labels with no predicted samples. Use `zero_division` parameter to control this behavior.\n",
      "  _warn_prf(average, modifier, msg_start, len(result))\n",
      "c:\\Users\\emers\\AppData\\Local\\Programs\\Python\\Python311\\Lib\\site-packages\\sklearn\\metrics\\_classification.py:1469: UndefinedMetricWarning: Precision is ill-defined and being set to 0.0 in labels with no predicted samples. Use `zero_division` parameter to control this behavior.\n",
      "  _warn_prf(average, modifier, msg_start, len(result))\n"
     ]
    }
   ],
   "source": [
    "# Executando a função para treinar e avaliar os modelos\n",
    "results = train_and_evalutate_models(models, X_train, y_train, X_validation, y_validation, X_test, y_test)\n",
    "\n",
    "# Criando um DataFrame para os resultados\n",
    "results_df = pd.DataFrame(results)\n",
    "\n",
    "print_table(\"Resultados dos modelos de classificação\", results_df)"
   ]
  }
 ],
 "metadata": {
  "kernelspec": {
   "display_name": "Python 3",
   "language": "python",
   "name": "python3"
  },
  "language_info": {
   "codemirror_mode": {
    "name": "ipython",
    "version": 3
   },
   "file_extension": ".py",
   "mimetype": "text/x-python",
   "name": "python",
   "nbconvert_exporter": "python",
   "pygments_lexer": "ipython3",
   "version": "3.11.2"
  }
 },
 "nbformat": 4,
 "nbformat_minor": 2
}
